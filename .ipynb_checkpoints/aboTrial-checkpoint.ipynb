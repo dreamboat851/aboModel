{
 "cells": [
  {
   "cell_type": "code",
   "execution_count": 1,
   "metadata": {
    "executionInfo": {
     "elapsed": 323,
     "status": "ok",
     "timestamp": 1631167277120,
     "user": {
      "displayName": "Sajeewa Pemasinghe",
      "photoUrl": "https://lh3.googleusercontent.com/a-/AOh14GhJlk5aMShct3FCWU8IYNIxkTpt88UcoHMpeWunPw=s64",
      "userId": "10294265481048027989"
     },
     "user_tz": -330
    },
    "id": "XMn49Y8uwWvW"
   },
   "outputs": [],
   "source": [
    "import tensorflow as tf\n",
    "from tensorflow.keras import models, layers\n",
    "import matplotlib.pyplot as plt\n",
    "import pandas as pd\n",
    "import numpy as np\n",
    "import seaborn as sns\n",
    "from matplotlib.image import imread\n",
    "from tensorflow.keras.preprocessing.image import ImageDataGenerator\n",
    "from tensorflow.keras.models import Sequential\n",
    "from tensorflow.keras.layers import Dense,Conv2D,MaxPool2D,Dropout,Flatten\n",
    "from tensorflow.keras.callbacks import EarlyStopping\n",
    "from tensorflow.keras.preprocessing import image\n",
    "from tensorflow.keras.models import model_from_json\n",
    "from pathlib import Path\n",
    "import os\n",
    "import zipfile\n",
    "import pickle"
   ]
  },
  {
   "cell_type": "code",
   "execution_count": 3,
   "metadata": {
    "colab": {
     "base_uri": "https://localhost:8080/"
    },
    "executionInfo": {
     "elapsed": 1645,
     "status": "ok",
     "timestamp": 1631161900638,
     "user": {
      "displayName": "Sajeewa Pemasinghe",
      "photoUrl": "https://lh3.googleusercontent.com/a-/AOh14GhJlk5aMShct3FCWU8IYNIxkTpt88UcoHMpeWunPw=s64",
      "userId": "10294265481048027989"
     },
     "user_tz": -330
    },
    "id": "h_Qq5j93zJs2",
    "outputId": "f43137e6-997c-4867-d356-0f1032e73a62"
   },
   "outputs": [
    {
     "name": "stdout",
     "output_type": "stream",
     "text": [
      "--2021-09-09 04:31:40--  https://github.com/dreamboat851/aboModel/archive/refs/heads/main.zip\n",
      "Resolving github.com (github.com)... 140.82.114.3\n",
      "Connecting to github.com (github.com)|140.82.114.3|:443... connected.\n",
      "HTTP request sent, awaiting response... 302 Found\n",
      "Location: https://codeload.github.com/dreamboat851/aboModel/zip/refs/heads/main [following]\n",
      "--2021-09-09 04:31:40--  https://codeload.github.com/dreamboat851/aboModel/zip/refs/heads/main\n",
      "Resolving codeload.github.com (codeload.github.com)... 140.82.114.9\n",
      "Connecting to codeload.github.com (codeload.github.com)|140.82.114.9|:443... connected.\n",
      "HTTP request sent, awaiting response... 200 OK\n",
      "Length: unspecified [application/zip]\n",
      "Saving to: ‘/tmp/aboModel.zip’\n",
      "\n",
      "/tmp/aboModel.zip       [  <=>               ]  10.71M  29.0MB/s    in 0.4s    \n",
      "\n",
      "2021-09-09 04:31:41 (29.0 MB/s) - ‘/tmp/aboModel.zip’ saved [11225260]\n",
      "\n"
     ]
    }
   ],
   "source": [
    "'''\n",
    "!wget --no-check-certificate \\\n",
    "    \"https://github.com/dreamboat851/aboModel/archive/refs/heads/main.zip\" \\\n",
    "    -O \"/tmp/aboModel.zip\"\n",
    "    \n",
    "    '''"
   ]
  },
  {
   "cell_type": "code",
   "execution_count": 5,
   "metadata": {
    "executionInfo": {
     "elapsed": 747,
     "status": "ok",
     "timestamp": 1631162059345,
     "user": {
      "displayName": "Sajeewa Pemasinghe",
      "photoUrl": "https://lh3.googleusercontent.com/a-/AOh14GhJlk5aMShct3FCWU8IYNIxkTpt88UcoHMpeWunPw=s64",
      "userId": "10294265481048027989"
     },
     "user_tz": -330
    },
    "id": "yO7Q6aIX01Ln"
   },
   "outputs": [],
   "source": [
    "'''\n",
    "zip_ref = zipfile.ZipFile('/tmp/aboModel.zip', 'r') #Opens the zip file in read mode\n",
    "zip_ref.extractall('/tmp') #Extracts the files into the /tmp folder\n",
    "zip_ref.close()'''"
   ]
  },
  {
   "cell_type": "code",
   "execution_count": 6,
   "metadata": {
    "executionInfo": {
     "elapsed": 339,
     "status": "ok",
     "timestamp": 1631162868464,
     "user": {
      "displayName": "Sajeewa Pemasinghe",
      "photoUrl": "https://lh3.googleusercontent.com/a-/AOh14GhJlk5aMShct3FCWU8IYNIxkTpt88UcoHMpeWunPw=s64",
      "userId": "10294265481048027989"
     },
     "user_tz": -330
    },
    "id": "NBngEXHk1cFn"
   },
   "outputs": [],
   "source": [
    "#data_dir = '/tmp/aboModel-main'"
   ]
  },
  {
   "cell_type": "code",
   "execution_count": 7,
   "metadata": {
    "colab": {
     "base_uri": "https://localhost:8080/"
    },
    "executionInfo": {
     "elapsed": 338,
     "status": "ok",
     "timestamp": 1631162881427,
     "user": {
      "displayName": "Sajeewa Pemasinghe",
      "photoUrl": "https://lh3.googleusercontent.com/a-/AOh14GhJlk5aMShct3FCWU8IYNIxkTpt88UcoHMpeWunPw=s64",
      "userId": "10294265481048027989"
     },
     "user_tz": -330
    },
    "id": "Y9ZBPDJj4hx2",
    "outputId": "4f2e86d8-5f85-45a3-8bec-f818305f0fc9"
   },
   "outputs": [
    {
     "data": {
      "text/plain": [
       "['test', '.ipynb_checkpoints', 'train']"
      ]
     },
     "execution_count": 7,
     "metadata": {},
     "output_type": "execute_result"
    }
   ],
   "source": [
    "#os.listdir(data_dir)"
   ]
  },
  {
   "cell_type": "code",
   "execution_count": 8,
   "metadata": {
    "executionInfo": {
     "elapsed": 331,
     "status": "ok",
     "timestamp": 1631163000065,
     "user": {
      "displayName": "Sajeewa Pemasinghe",
      "photoUrl": "https://lh3.googleusercontent.com/a-/AOh14GhJlk5aMShct3FCWU8IYNIxkTpt88UcoHMpeWunPw=s64",
      "userId": "10294265481048027989"
     },
     "user_tz": -330
    },
    "id": "OdLcWP_64kzG"
   },
   "outputs": [],
   "source": [
    "#test_path=data_dir+\"/test/\"\n",
    "#train_path=data_dir+\"/train/\""
   ]
  },
  {
   "cell_type": "code",
   "execution_count": 2,
   "metadata": {},
   "outputs": [],
   "source": [
    "test_path='test'\n",
    "train_path='train'"
   ]
  },
  {
   "cell_type": "code",
   "execution_count": 3,
   "metadata": {
    "colab": {
     "base_uri": "https://localhost:8080/",
     "height": 35
    },
    "executionInfo": {
     "elapsed": 345,
     "status": "ok",
     "timestamp": 1631163014111,
     "user": {
      "displayName": "Sajeewa Pemasinghe",
      "photoUrl": "https://lh3.googleusercontent.com/a-/AOh14GhJlk5aMShct3FCWU8IYNIxkTpt88UcoHMpeWunPw=s64",
      "userId": "10294265481048027989"
     },
     "user_tz": -330
    },
    "id": "wnkmlGWU5B6V",
    "outputId": "5453dd84-831e-4125-de67-c3a56365a99e"
   },
   "outputs": [
    {
     "data": {
      "text/plain": [
       "'test'"
      ]
     },
     "execution_count": 3,
     "metadata": {},
     "output_type": "execute_result"
    }
   ],
   "source": [
    "test_path"
   ]
  },
  {
   "cell_type": "code",
   "execution_count": 4,
   "metadata": {
    "colab": {
     "base_uri": "https://localhost:8080/"
    },
    "executionInfo": {
     "elapsed": 369,
     "status": "ok",
     "timestamp": 1631163074270,
     "user": {
      "displayName": "Sajeewa Pemasinghe",
      "photoUrl": "https://lh3.googleusercontent.com/a-/AOh14GhJlk5aMShct3FCWU8IYNIxkTpt88UcoHMpeWunPw=s64",
      "userId": "10294265481048027989"
     },
     "user_tz": -330
    },
    "id": "CMBqqwdv5FWa",
    "outputId": "0a5f2d4d-d2d3-4271-886b-ba692a6cbd68"
   },
   "outputs": [
    {
     "data": {
      "text/plain": [
       "['apple', 'banana', 'orange']"
      ]
     },
     "execution_count": 4,
     "metadata": {},
     "output_type": "execute_result"
    }
   ],
   "source": [
    "os.listdir(test_path)"
   ]
  },
  {
   "cell_type": "code",
   "execution_count": 6,
   "metadata": {
    "colab": {
     "base_uri": "https://localhost:8080/",
     "height": 35
    },
    "executionInfo": {
     "elapsed": 810,
     "status": "ok",
     "timestamp": 1631163169648,
     "user": {
      "displayName": "Sajeewa Pemasinghe",
      "photoUrl": "https://lh3.googleusercontent.com/a-/AOh14GhJlk5aMShct3FCWU8IYNIxkTpt88UcoHMpeWunPw=s64",
      "userId": "10294265481048027989"
     },
     "user_tz": -330
    },
    "id": "j9DRfeXw5N1r",
    "outputId": "4cdf28d0-167f-42ec-c8e7-d0e9d265cf80"
   },
   "outputs": [
    {
     "data": {
      "text/plain": [
       "'166_100.jpg'"
      ]
     },
     "execution_count": 6,
     "metadata": {},
     "output_type": "execute_result"
    }
   ],
   "source": [
    "os.listdir(train_path+'\\\\apple')[0]"
   ]
  },
  {
   "cell_type": "code",
   "execution_count": 10,
   "metadata": {
    "executionInfo": {
     "elapsed": 438,
     "status": "ok",
     "timestamp": 1631163181537,
     "user": {
      "displayName": "Sajeewa Pemasinghe",
      "photoUrl": "https://lh3.googleusercontent.com/a-/AOh14GhJlk5aMShct3FCWU8IYNIxkTpt88UcoHMpeWunPw=s64",
      "userId": "10294265481048027989"
     },
     "user_tz": -330
    },
    "id": "ZrjCN9zU5ZMY"
   },
   "outputs": [],
   "source": [
    "trainApple1=train_path+'\\\\apple\\\\'+'166_100.jpg'"
   ]
  },
  {
   "cell_type": "code",
   "execution_count": 11,
   "metadata": {
    "colab": {
     "base_uri": "https://localhost:8080/"
    },
    "executionInfo": {
     "elapsed": 626,
     "status": "ok",
     "timestamp": 1631163204783,
     "user": {
      "displayName": "Sajeewa Pemasinghe",
      "photoUrl": "https://lh3.googleusercontent.com/a-/AOh14GhJlk5aMShct3FCWU8IYNIxkTpt88UcoHMpeWunPw=s64",
      "userId": "10294265481048027989"
     },
     "user_tz": -330
    },
    "id": "MKudqRKl5uMW",
    "outputId": "0f8fadaa-4d2f-4119-e48d-3c16bcaf9fd3"
   },
   "outputs": [
    {
     "data": {
      "text/plain": [
       "array([[[248, 255, 255],\n",
       "        [248, 255, 255],\n",
       "        [248, 255, 255],\n",
       "        ...,\n",
       "        [255, 255, 255],\n",
       "        [255, 255, 255],\n",
       "        [255, 255, 255]],\n",
       "\n",
       "       [[251, 255, 255],\n",
       "        [251, 255, 255],\n",
       "        [251, 255, 255],\n",
       "        ...,\n",
       "        [255, 255, 255],\n",
       "        [255, 255, 255],\n",
       "        [255, 255, 255]],\n",
       "\n",
       "       [[255, 253, 255],\n",
       "        [254, 254, 255],\n",
       "        [254, 254, 255],\n",
       "        ...,\n",
       "        [255, 255, 255],\n",
       "        [255, 255, 255],\n",
       "        [255, 255, 255]],\n",
       "\n",
       "       ...,\n",
       "\n",
       "       [[255, 255, 255],\n",
       "        [255, 255, 255],\n",
       "        [255, 255, 255],\n",
       "        ...,\n",
       "        [255, 255, 255],\n",
       "        [255, 255, 255],\n",
       "        [255, 255, 255]],\n",
       "\n",
       "       [[255, 255, 255],\n",
       "        [255, 255, 255],\n",
       "        [255, 255, 255],\n",
       "        ...,\n",
       "        [255, 255, 255],\n",
       "        [255, 255, 255],\n",
       "        [255, 255, 255]],\n",
       "\n",
       "       [[255, 255, 255],\n",
       "        [255, 255, 255],\n",
       "        [255, 255, 255],\n",
       "        ...,\n",
       "        [255, 255, 255],\n",
       "        [255, 255, 255],\n",
       "        [255, 255, 255]]], dtype=uint8)"
      ]
     },
     "execution_count": 11,
     "metadata": {},
     "output_type": "execute_result"
    }
   ],
   "source": [
    "imread(trainApple1)"
   ]
  },
  {
   "cell_type": "code",
   "execution_count": 12,
   "metadata": {
    "colab": {
     "base_uri": "https://localhost:8080/"
    },
    "executionInfo": {
     "elapsed": 348,
     "status": "ok",
     "timestamp": 1631163222346,
     "user": {
      "displayName": "Sajeewa Pemasinghe",
      "photoUrl": "https://lh3.googleusercontent.com/a-/AOh14GhJlk5aMShct3FCWU8IYNIxkTpt88UcoHMpeWunPw=s64",
      "userId": "10294265481048027989"
     },
     "user_tz": -330
    },
    "id": "jo6uHS7g5zyx",
    "outputId": "5df24063-68b3-4ad7-90fe-bae934ee953d"
   },
   "outputs": [
    {
     "data": {
      "text/plain": [
       "(100, 100, 3)"
      ]
     },
     "execution_count": 12,
     "metadata": {},
     "output_type": "execute_result"
    }
   ],
   "source": [
    "imread(trainApple1).shape"
   ]
  },
  {
   "cell_type": "code",
   "execution_count": 13,
   "metadata": {
    "colab": {
     "base_uri": "https://localhost:8080/",
     "height": 286
    },
    "executionInfo": {
     "elapsed": 736,
     "status": "ok",
     "timestamp": 1631163232442,
     "user": {
      "displayName": "Sajeewa Pemasinghe",
      "photoUrl": "https://lh3.googleusercontent.com/a-/AOh14GhJlk5aMShct3FCWU8IYNIxkTpt88UcoHMpeWunPw=s64",
      "userId": "10294265481048027989"
     },
     "user_tz": -330
    },
    "id": "v49Ftr9U54XQ",
    "outputId": "ee08d31d-3847-4435-891b-0e97185b4f30"
   },
   "outputs": [
    {
     "data": {
      "text/plain": [
       "<matplotlib.image.AxesImage at 0x187f09b6e48>"
      ]
     },
     "execution_count": 13,
     "metadata": {},
     "output_type": "execute_result"
    },
    {
     "data": {
      "image/png": "[encoded data removed]",
      "text/plain": [
       "<Figure size 432x288 with 1 Axes>"
      ]
     },
     "metadata": {
      "needs_background": "light"
     },
     "output_type": "display_data"
    }
   ],
   "source": [
    "plt.imshow(imread(trainApple1))"
   ]
  },
  {
   "cell_type": "code",
   "execution_count": 14,
   "metadata": {
    "colab": {
     "base_uri": "https://localhost:8080/",
     "height": 35
    },
    "executionInfo": {
     "elapsed": 339,
     "status": "ok",
     "timestamp": 1631163263529,
     "user": {
      "displayName": "Sajeewa Pemasinghe",
      "photoUrl": "https://lh3.googleusercontent.com/a-/AOh14GhJlk5aMShct3FCWU8IYNIxkTpt88UcoHMpeWunPw=s64",
      "userId": "10294265481048027989"
     },
     "user_tz": -330
    },
    "id": "_KpmmO6o56rp",
    "outputId": "c272d403-1795-4eeb-b12d-a4b917e95f1d"
   },
   "outputs": [
    {
     "data": {
      "text/plain": [
       "'163_100.jpg'"
      ]
     },
     "execution_count": 14,
     "metadata": {},
     "output_type": "execute_result"
    }
   ],
   "source": [
    "os.listdir(train_path+'\\\\orange')[0]"
   ]
  },
  {
   "cell_type": "code",
   "execution_count": 15,
   "metadata": {
    "executionInfo": {
     "elapsed": 383,
     "status": "ok",
     "timestamp": 1631163294917,
     "user": {
      "displayName": "Sajeewa Pemasinghe",
      "photoUrl": "https://lh3.googleusercontent.com/a-/AOh14GhJlk5aMShct3FCWU8IYNIxkTpt88UcoHMpeWunPw=s64",
      "userId": "10294265481048027989"
     },
     "user_tz": -330
    },
    "id": "U8DO2aRS6Cag"
   },
   "outputs": [],
   "source": [
    "trainOrange1=train_path+'\\\\orange\\\\'+'163_100.jpg'"
   ]
  },
  {
   "cell_type": "code",
   "execution_count": 16,
   "metadata": {
    "colab": {
     "base_uri": "https://localhost:8080/",
     "height": 286
    },
    "executionInfo": {
     "elapsed": 4039,
     "status": "ok",
     "timestamp": 1631163310892,
     "user": {
      "displayName": "Sajeewa Pemasinghe",
      "photoUrl": "https://lh3.googleusercontent.com/a-/AOh14GhJlk5aMShct3FCWU8IYNIxkTpt88UcoHMpeWunPw=s64",
      "userId": "10294265481048027989"
     },
     "user_tz": -330
    },
    "id": "lECQrUjE6KEa",
    "outputId": "41d31dfe-8cd8-4b0f-dfcd-3023f2288a8f"
   },
   "outputs": [
    {
     "data": {
      "text/plain": [
       "<matplotlib.image.AxesImage at 0x187f0a5e888>"
      ]
     },
     "execution_count": 16,
     "metadata": {},
     "output_type": "execute_result"
    },
    {
     "data": {
      "image/png": "[encoded data removed]",
      "text/plain": [
       "<Figure size 432x288 with 1 Axes>"
      ]
     },
     "metadata": {
      "needs_background": "light"
     },
     "output_type": "display_data"
    }
   ],
   "source": [
    "plt.imshow(imread(trainOrange1))"
   ]
  },
  {
   "cell_type": "code",
   "execution_count": 17,
   "metadata": {
    "colab": {
     "base_uri": "https://localhost:8080/",
     "height": 35
    },
    "executionInfo": {
     "elapsed": 342,
     "status": "ok",
     "timestamp": 1631163556149,
     "user": {
      "displayName": "Sajeewa Pemasinghe",
      "photoUrl": "https://lh3.googleusercontent.com/a-/AOh14GhJlk5aMShct3FCWU8IYNIxkTpt88UcoHMpeWunPw=s64",
      "userId": "10294265481048027989"
     },
     "user_tz": -330
    },
    "id": "OPq9OY7M6NEk",
    "outputId": "88a9f33a-90cf-41e9-ed7a-60c87d49a523"
   },
   "outputs": [
    {
     "data": {
      "text/plain": [
       "'193_100.jpg'"
      ]
     },
     "execution_count": 17,
     "metadata": {},
     "output_type": "execute_result"
    }
   ],
   "source": [
    "os.listdir(train_path+'\\\\banana')[0]"
   ]
  },
  {
   "cell_type": "code",
   "execution_count": 18,
   "metadata": {
    "executionInfo": {
     "elapsed": 856,
     "status": "ok",
     "timestamp": 1631163594106,
     "user": {
      "displayName": "Sajeewa Pemasinghe",
      "photoUrl": "https://lh3.googleusercontent.com/a-/AOh14GhJlk5aMShct3FCWU8IYNIxkTpt88UcoHMpeWunPw=s64",
      "userId": "10294265481048027989"
     },
     "user_tz": -330
    },
    "id": "Q1cdFa3T7JqS"
   },
   "outputs": [],
   "source": [
    "trainBanana1=train_path+'\\\\banana\\\\'+'193_100.jpg'"
   ]
  },
  {
   "cell_type": "code",
   "execution_count": 19,
   "metadata": {
    "colab": {
     "base_uri": "https://localhost:8080/",
     "height": 286
    },
    "executionInfo": {
     "elapsed": 604,
     "status": "ok",
     "timestamp": 1631163610965,
     "user": {
      "displayName": "Sajeewa Pemasinghe",
      "photoUrl": "https://lh3.googleusercontent.com/a-/AOh14GhJlk5aMShct3FCWU8IYNIxkTpt88UcoHMpeWunPw=s64",
      "userId": "10294265481048027989"
     },
     "user_tz": -330
    },
    "id": "jSrWVT-17Szy",
    "outputId": "93aefd38-d023-4500-a5e7-564a2d73c158"
   },
   "outputs": [
    {
     "data": {
      "text/plain": [
       "<matplotlib.image.AxesImage at 0x187f0a81f08>"
      ]
     },
     "execution_count": 19,
     "metadata": {},
     "output_type": "execute_result"
    },
    {
     "data": {
      "image/png": "[encoded data removed]",
      "text/plain": [
       "<Figure size 432x288 with 1 Axes>"
      ]
     },
     "metadata": {
      "needs_background": "light"
     },
     "output_type": "display_data"
    }
   ],
   "source": [
    "plt.imshow(imread(trainBanana1))"
   ]
  },
  {
   "cell_type": "code",
   "execution_count": 20,
   "metadata": {
    "colab": {
     "base_uri": "https://localhost:8080/"
    },
    "executionInfo": {
     "elapsed": 1257,
     "status": "ok",
     "timestamp": 1631163719380,
     "user": {
      "displayName": "Sajeewa Pemasinghe",
      "photoUrl": "https://lh3.googleusercontent.com/a-/AOh14GhJlk5aMShct3FCWU8IYNIxkTpt88UcoHMpeWunPw=s64",
      "userId": "10294265481048027989"
     },
     "user_tz": -330
    },
    "id": "j4fs8ML37W9H",
    "outputId": "9e75bb5a-e7cd-403f-a0b2-c092af70571f"
   },
   "outputs": [
    {
     "name": "stdout",
     "output_type": "stream",
     "text": [
      "561\n",
      "577\n",
      "575\n"
     ]
    }
   ],
   "source": [
    "print(len(os.listdir(train_path+'\\\\orange')))\n",
    "print(len(os.listdir(train_path+'\\\\apple')))\n",
    "print(len(os.listdir(train_path+'\\\\banana')))"
   ]
  },
  {
   "cell_type": "code",
   "execution_count": 21,
   "metadata": {
    "colab": {
     "base_uri": "https://localhost:8080/"
    },
    "executionInfo": {
     "elapsed": 341,
     "status": "ok",
     "timestamp": 1631163779350,
     "user": {
      "displayName": "Sajeewa Pemasinghe",
      "photoUrl": "https://lh3.googleusercontent.com/a-/AOh14GhJlk5aMShct3FCWU8IYNIxkTpt88UcoHMpeWunPw=s64",
      "userId": "10294265481048027989"
     },
     "user_tz": -330
    },
    "id": "bEGWh6to7c3S",
    "outputId": "95a4c197-8686-4955-dd17-7ad79ca8527c"
   },
   "outputs": [
    {
     "name": "stdout",
     "output_type": "stream",
     "text": [
      "240\n",
      "247\n",
      "247\n"
     ]
    }
   ],
   "source": [
    "print(len(os.listdir(test_path+'\\\\orange')))\n",
    "print(len(os.listdir(test_path+'\\\\apple')))\n",
    "print(len(os.listdir(test_path+'\\\\banana')))"
   ]
  },
  {
   "cell_type": "code",
   "execution_count": 22,
   "metadata": {
    "executionInfo": {
     "elapsed": 337,
     "status": "ok",
     "timestamp": 1631163851026,
     "user": {
      "displayName": "Sajeewa Pemasinghe",
      "photoUrl": "https://lh3.googleusercontent.com/a-/AOh14GhJlk5aMShct3FCWU8IYNIxkTpt88UcoHMpeWunPw=s64",
      "userId": "10294265481048027989"
     },
     "user_tz": -330
    },
    "id": "SUqjwAiX7f-Y"
   },
   "outputs": [],
   "source": [
    "image_shape=(100,100,3)\n",
    "\n",
    "image_gen=ImageDataGenerator(rotation_range=20,\n",
    "                             width_shift_range=0.1,\n",
    "                             height_shift_range=0.1,\n",
    "                             shear_range=0.1,\n",
    "                             zoom_range=0.1,\n",
    "                             horizontal_flip=True,\n",
    "                             fill_mode='nearest',\n",
    "                             rescale=1/255)"
   ]
  },
  {
   "cell_type": "code",
   "execution_count": 23,
   "metadata": {
    "colab": {
     "base_uri": "https://localhost:8080/"
    },
    "executionInfo": {
     "elapsed": 337,
     "status": "ok",
     "timestamp": 1631163870679,
     "user": {
      "displayName": "Sajeewa Pemasinghe",
      "photoUrl": "https://lh3.googleusercontent.com/a-/AOh14GhJlk5aMShct3FCWU8IYNIxkTpt88UcoHMpeWunPw=s64",
      "userId": "10294265481048027989"
     },
     "user_tz": -330
    },
    "id": "NazfC1CH8R0u",
    "outputId": "64cd37b5-175a-404f-c563-b208bef84076"
   },
   "outputs": [
    {
     "name": "stdout",
     "output_type": "stream",
     "text": [
      "Found 734 images belonging to 3 classes.\n"
     ]
    },
    {
     "data": {
      "text/plain": [
       "<keras_preprocessing.image.directory_iterator.DirectoryIterator at 0x187f0adcc48>"
      ]
     },
     "execution_count": 23,
     "metadata": {},
     "output_type": "execute_result"
    }
   ],
   "source": [
    "image_gen.flow_from_directory(test_path)"
   ]
  },
  {
   "cell_type": "code",
   "execution_count": 24,
   "metadata": {
    "colab": {
     "base_uri": "https://localhost:8080/"
    },
    "executionInfo": {
     "elapsed": 347,
     "status": "ok",
     "timestamp": 1631163885473,
     "user": {
      "displayName": "Sajeewa Pemasinghe",
      "photoUrl": "https://lh3.googleusercontent.com/a-/AOh14GhJlk5aMShct3FCWU8IYNIxkTpt88UcoHMpeWunPw=s64",
      "userId": "10294265481048027989"
     },
     "user_tz": -330
    },
    "id": "p1vd-q5v8Wd-",
    "outputId": "7da35796-e947-4e2e-915f-bc28b3b0f424"
   },
   "outputs": [
    {
     "name": "stdout",
     "output_type": "stream",
     "text": [
      "Found 1713 images belonging to 3 classes.\n"
     ]
    },
    {
     "data": {
      "text/plain": [
       "<keras_preprocessing.image.directory_iterator.DirectoryIterator at 0x187f0ae7ac8>"
      ]
     },
     "execution_count": 24,
     "metadata": {},
     "output_type": "execute_result"
    }
   ],
   "source": [
    "image_gen.flow_from_directory(train_path)"
   ]
  },
  {
   "cell_type": "code",
   "execution_count": 25,
   "metadata": {
    "executionInfo": {
     "elapsed": 359,
     "status": "ok",
     "timestamp": 1631163933305,
     "user": {
      "displayName": "Sajeewa Pemasinghe",
      "photoUrl": "https://lh3.googleusercontent.com/a-/AOh14GhJlk5aMShct3FCWU8IYNIxkTpt88UcoHMpeWunPw=s64",
      "userId": "10294265481048027989"
     },
     "user_tz": -330
    },
    "id": "TPSKz-T88aE8"
   },
   "outputs": [],
   "source": [
    "from tensorflow.keras.models import Sequential\n",
    "from tensorflow.keras.layers import Dense,Conv2D,MaxPool2D,Dropout,Flatten"
   ]
  },
  {
   "cell_type": "code",
   "execution_count": 26,
   "metadata": {
    "executionInfo": {
     "elapsed": 910,
     "status": "ok",
     "timestamp": 1631163975803,
     "user": {
      "displayName": "Sajeewa Pemasinghe",
      "photoUrl": "https://lh3.googleusercontent.com/a-/AOh14GhJlk5aMShct3FCWU8IYNIxkTpt88UcoHMpeWunPw=s64",
      "userId": "10294265481048027989"
     },
     "user_tz": -330
    },
    "id": "bRQZjrQA8lwS"
   },
   "outputs": [],
   "source": [
    "model=Sequential()\n",
    "\n",
    "model.add(Conv2D(filters=32,kernel_size=(3,3),input_shape=image_shape,activation='relu'))\n",
    "model.add(MaxPool2D(pool_size=(2,2)))\n",
    "\n",
    "model.add(Conv2D(filters=64,kernel_size=(3,3),input_shape=image_shape,activation='relu'))\n",
    "model.add(MaxPool2D(pool_size=(2,2)))\n",
    "\n",
    "model.add(Conv2D(filters=128,kernel_size=(3,3),input_shape=image_shape,activation='relu'))\n",
    "model.add(MaxPool2D(pool_size=(2,2)))\n",
    "\n",
    "model.add(Flatten())\n",
    "\n",
    "model.add(Dense(128,activation='relu'))\n",
    "model.add(Dropout(0.5))\n",
    "\n",
    "model.add(Dense(3,activation='softmax'))\n",
    "\n",
    "model.compile(loss='categorical_crossentropy',optimizer='adam',metrics=['accuracy'])"
   ]
  },
  {
   "cell_type": "code",
   "execution_count": 27,
   "metadata": {
    "colab": {
     "base_uri": "https://localhost:8080/"
    },
    "executionInfo": {
     "elapsed": 356,
     "status": "ok",
     "timestamp": 1631163992349,
     "user": {
      "displayName": "Sajeewa Pemasinghe",
      "photoUrl": "https://lh3.googleusercontent.com/a-/AOh14GhJlk5aMShct3FCWU8IYNIxkTpt88UcoHMpeWunPw=s64",
      "userId": "10294265481048027989"
     },
     "user_tz": -330
    },
    "id": "oL8DeQ_w8wJA",
    "outputId": "21178a33-7e43-4a88-f3a8-ff10600b3602"
   },
   "outputs": [
    {
     "name": "stdout",
     "output_type": "stream",
     "text": [
      "Model: \"sequential\"\n",
      "_________________________________________________________________\n",
      "Layer (type)                 Output Shape              Param #   \n",
      "=================================================================\n",
      "conv2d (Conv2D)              (None, 98, 98, 32)        896       \n",
      "_________________________________________________________________\n",
      "max_pooling2d (MaxPooling2D) (None, 49, 49, 32)        0         \n",
      "_________________________________________________________________\n",
      "conv2d_1 (Conv2D)            (None, 47, 47, 64)        18496     \n",
      "_________________________________________________________________\n",
      "max_pooling2d_1 (MaxPooling2 (None, 23, 23, 64)        0         \n",
      "_________________________________________________________________\n",
      "conv2d_2 (Conv2D)            (None, 21, 21, 128)       73856     \n",
      "_________________________________________________________________\n",
      "max_pooling2d_2 (MaxPooling2 (None, 10, 10, 128)       0         \n",
      "_________________________________________________________________\n",
      "flatten (Flatten)            (None, 12800)             0         \n",
      "_________________________________________________________________\n",
      "dense (Dense)                (None, 128)               1638528   \n",
      "_________________________________________________________________\n",
      "dropout (Dropout)            (None, 128)               0         \n",
      "_________________________________________________________________\n",
      "dense_1 (Dense)              (None, 3)                 387       \n",
      "=================================================================\n",
      "Total params: 1,732,163\n",
      "Trainable params: 1,732,163\n",
      "Non-trainable params: 0\n",
      "_________________________________________________________________\n"
     ]
    }
   ],
   "source": [
    "model.summary()"
   ]
  },
  {
   "cell_type": "code",
   "execution_count": 28,
   "metadata": {
    "executionInfo": {
     "elapsed": 372,
     "status": "ok",
     "timestamp": 1631165222560,
     "user": {
      "displayName": "Sajeewa Pemasinghe",
      "photoUrl": "https://lh3.googleusercontent.com/a-/AOh14GhJlk5aMShct3FCWU8IYNIxkTpt88UcoHMpeWunPw=s64",
      "userId": "10294265481048027989"
     },
     "user_tz": -330
    },
    "id": "8fHuCiJF80WA"
   },
   "outputs": [],
   "source": [
    "early_stop=EarlyStopping(monitor='val_loss',patience=4)"
   ]
  },
  {
   "cell_type": "code",
   "execution_count": 29,
   "metadata": {
    "executionInfo": {
     "elapsed": 343,
     "status": "ok",
     "timestamp": 1631165239354,
     "user": {
      "displayName": "Sajeewa Pemasinghe",
      "photoUrl": "https://lh3.googleusercontent.com/a-/AOh14GhJlk5aMShct3FCWU8IYNIxkTpt88UcoHMpeWunPw=s64",
      "userId": "10294265481048027989"
     },
     "user_tz": -330
    },
    "id": "bweU9yaPBgbH"
   },
   "outputs": [],
   "source": [
    "batch_size=16"
   ]
  },
  {
   "cell_type": "code",
   "execution_count": 30,
   "metadata": {
    "colab": {
     "base_uri": "https://localhost:8080/"
    },
    "executionInfo": {
     "elapsed": 347,
     "status": "ok",
     "timestamp": 1631165256245,
     "user": {
      "displayName": "Sajeewa Pemasinghe",
      "photoUrl": "https://lh3.googleusercontent.com/a-/AOh14GhJlk5aMShct3FCWU8IYNIxkTpt88UcoHMpeWunPw=s64",
      "userId": "10294265481048027989"
     },
     "user_tz": -330
    },
    "id": "_I0h07guBkSl",
    "outputId": "48902e73-0b22-4f4b-ca39-0d14a8bbd31b"
   },
   "outputs": [
    {
     "name": "stdout",
     "output_type": "stream",
     "text": [
      "Found 1713 images belonging to 3 classes.\n"
     ]
    }
   ],
   "source": [
    "train_image_gen=image_gen.flow_from_directory(train_path,\n",
    "                                              target_size=image_shape[:2],\n",
    "                                              color_mode='rgb',\n",
    "                                              batch_size=batch_size,\n",
    "                                              class_mode='categorical')"
   ]
  },
  {
   "cell_type": "code",
   "execution_count": 31,
   "metadata": {
    "colab": {
     "base_uri": "https://localhost:8080/"
    },
    "executionInfo": {
     "elapsed": 348,
     "status": "ok",
     "timestamp": 1631165286385,
     "user": {
      "displayName": "Sajeewa Pemasinghe",
      "photoUrl": "https://lh3.googleusercontent.com/a-/AOh14GhJlk5aMShct3FCWU8IYNIxkTpt88UcoHMpeWunPw=s64",
      "userId": "10294265481048027989"
     },
     "user_tz": -330
    },
    "id": "2PpWhaMZBouI",
    "outputId": "13b68339-3bfe-49d9-a0e5-e3235ca3be68"
   },
   "outputs": [
    {
     "name": "stdout",
     "output_type": "stream",
     "text": [
      "Found 734 images belonging to 3 classes.\n"
     ]
    }
   ],
   "source": [
    "test_image_gen=image_gen.flow_from_directory(test_path,\n",
    "                                              target_size=image_shape[:2],\n",
    "                                              color_mode='rgb',\n",
    "                                              batch_size=batch_size,\n",
    "                                              class_mode='categorical',\n",
    "                                              shuffle=False)"
   ]
  },
  {
   "cell_type": "code",
   "execution_count": 32,
   "metadata": {
    "colab": {
     "base_uri": "https://localhost:8080/"
    },
    "executionInfo": {
     "elapsed": 1074,
     "status": "ok",
     "timestamp": 1631165418355,
     "user": {
      "displayName": "Sajeewa Pemasinghe",
      "photoUrl": "https://lh3.googleusercontent.com/a-/AOh14GhJlk5aMShct3FCWU8IYNIxkTpt88UcoHMpeWunPw=s64",
      "userId": "10294265481048027989"
     },
     "user_tz": -330
    },
    "id": "RxhbQOE1BwFk",
    "outputId": "c0a692e2-0d5b-44d4-996a-bc1675d0bb21"
   },
   "outputs": [
    {
     "data": {
      "text/plain": [
       "{'apple': 0, 'banana': 1, 'orange': 2}"
      ]
     },
     "execution_count": 32,
     "metadata": {},
     "output_type": "execute_result"
    }
   ],
   "source": [
    "train_image_gen.class_indices"
   ]
  },
  {
   "cell_type": "code",
   "execution_count": 33,
   "metadata": {
    "colab": {
     "base_uri": "https://localhost:8080/"
    },
    "executionInfo": {
     "elapsed": 324437,
     "status": "ok",
     "timestamp": 1631165772690,
     "user": {
      "displayName": "Sajeewa Pemasinghe",
      "photoUrl": "https://lh3.googleusercontent.com/a-/AOh14GhJlk5aMShct3FCWU8IYNIxkTpt88UcoHMpeWunPw=s64",
      "userId": "10294265481048027989"
     },
     "user_tz": -330
    },
    "id": "06b5YavCCQIt",
    "outputId": "5ea647fe-ce27-40aa-a69c-55ce0b9432e9"
   },
   "outputs": [
    {
     "name": "stdout",
     "output_type": "stream",
     "text": [
      "WARNING:tensorflow:From <ipython-input-33-e301e87b48d1>:4: Model.fit_generator (from tensorflow.python.keras.engine.training) is deprecated and will be removed in a future version.\n",
      "Instructions for updating:\n",
      "Please use Model.fit, which supports generators.\n",
      "WARNING:tensorflow:sample_weight modes were coerced from\n",
      "  ...\n",
      "    to  \n",
      "  ['...']\n",
      "WARNING:tensorflow:sample_weight modes were coerced from\n",
      "  ...\n",
      "    to  \n",
      "  ['...']\n",
      "Train for 108 steps, validate for 46 steps\n",
      "Epoch 1/20\n",
      "108/108 [==============================] - 39s 365ms/step - loss: 0.1887 - accuracy: 0.9083 - val_loss: 2.3185e-06 - val_accuracy: 1.0000\n",
      "Epoch 2/20\n",
      "108/108 [==============================] - 25s 230ms/step - loss: 0.0143 - accuracy: 0.9982 - val_loss: 0.0011 - val_accuracy: 1.0000\n",
      "Epoch 3/20\n",
      "108/108 [==============================] - 24s 220ms/step - loss: 7.9970e-04 - accuracy: 1.0000 - val_loss: 1.1374e-04 - val_accuracy: 1.0000\n",
      "Epoch 4/20\n",
      "108/108 [==============================] - 25s 228ms/step - loss: 1.8224e-04 - accuracy: 1.0000 - val_loss: 1.5601e-06 - val_accuracy: 1.0000\n",
      "Epoch 5/20\n",
      "108/108 [==============================] - 25s 231ms/step - loss: 0.0091 - accuracy: 0.9982 - val_loss: 8.3501e-05 - val_accuracy: 1.0000\n",
      "Epoch 6/20\n",
      "108/108 [==============================] - 25s 230ms/step - loss: 3.5216e-05 - accuracy: 1.0000 - val_loss: 1.9797e-05 - val_accuracy: 1.0000\n",
      "Epoch 7/20\n",
      "108/108 [==============================] - 25s 231ms/step - loss: 3.2576e-05 - accuracy: 1.0000 - val_loss: 1.4384e-05 - val_accuracy: 1.0000\n",
      "Epoch 8/20\n",
      "108/108 [==============================] - 25s 232ms/step - loss: 4.7028e-05 - accuracy: 1.0000 - val_loss: 2.6077e-08 - val_accuracy: 1.0000\n",
      "Epoch 9/20\n",
      "108/108 [==============================] - 25s 236ms/step - loss: 0.1916 - accuracy: 0.9912 - val_loss: 2.4295e-09 - val_accuracy: 1.0000\n",
      "Epoch 10/20\n",
      "108/108 [==============================] - 25s 232ms/step - loss: 0.1305 - accuracy: 0.9609 - val_loss: 3.9910e-05 - val_accuracy: 1.0000\n",
      "Epoch 11/20\n",
      "108/108 [==============================] - 25s 231ms/step - loss: 0.0031 - accuracy: 0.9994 - val_loss: 2.5694e-06 - val_accuracy: 1.0000\n",
      "Epoch 12/20\n",
      "108/108 [==============================] - 25s 234ms/step - loss: 0.0219 - accuracy: 0.9965 - val_loss: 9.1437e-05 - val_accuracy: 1.0000\n",
      "Epoch 13/20\n",
      "108/108 [==============================] - 26s 237ms/step - loss: 0.0013 - accuracy: 0.9994 - val_loss: 3.8762e-04 - val_accuracy: 1.0000\n"
     ]
    }
   ],
   "source": [
    "results=model.fit_generator(train_image_gen,\n",
    "                            epochs=20,\n",
    "                            validation_data=test_image_gen,\n",
    "                            callbacks=[early_stop])"
   ]
  },
  {
   "cell_type": "code",
   "execution_count": 34,
   "metadata": {
    "colab": {
     "base_uri": "https://localhost:8080/"
    },
    "executionInfo": {
     "elapsed": 5706,
     "status": "ok",
     "timestamp": 1631166859881,
     "user": {
      "displayName": "Sajeewa Pemasinghe",
      "photoUrl": "https://lh3.googleusercontent.com/a-/AOh14GhJlk5aMShct3FCWU8IYNIxkTpt88UcoHMpeWunPw=s64",
      "userId": "10294265481048027989"
     },
     "user_tz": -330
    },
    "id": "SYQthIhdCXp-",
    "outputId": "8461a341-b7e1-4d3c-9715-c2db32e9afe7"
   },
   "outputs": [
    {
     "name": "stdout",
     "output_type": "stream",
     "text": [
      "WARNING:tensorflow:From <ipython-input-34-31acfd80dad9>:1: Model.evaluate_generator (from tensorflow.python.keras.engine.training) is deprecated and will be removed in a future version.\n",
      "Instructions for updating:\n",
      "Please use Model.evaluate, which supports generators.\n",
      "WARNING:tensorflow:sample_weight modes were coerced from\n",
      "  ...\n",
      "    to  \n",
      "  ['...']\n"
     ]
    },
    {
     "data": {
      "text/plain": [
       "[7.701778589278611e-05, 1.0]"
      ]
     },
     "execution_count": 34,
     "metadata": {},
     "output_type": "execute_result"
    }
   ],
   "source": [
    "model.evaluate_generator(test_image_gen)"
   ]
  },
  {
   "cell_type": "code",
   "execution_count": 36,
   "metadata": {
    "colab": {
     "base_uri": "https://localhost:8080/"
    },
    "executionInfo": {
     "elapsed": 1678,
     "status": "ok",
     "timestamp": 1631168320563,
     "user": {
      "displayName": "Sajeewa Pemasinghe",
      "photoUrl": "https://lh3.googleusercontent.com/a-/AOh14GhJlk5aMShct3FCWU8IYNIxkTpt88UcoHMpeWunPw=s64",
      "userId": "10294265481048027989"
     },
     "user_tz": -330
    },
    "id": "iQwqEwujHvE8",
    "outputId": "ae15bc17-c008-42a9-aa1e-0a5f12647730"
   },
   "outputs": [],
   "source": [
    "# Save neural network structure\n",
    "model_structure = model.to_json()\n",
    "#f = Path(\"/tmp/aboModelTrial_structure.json\")\n",
    "f = Path(\"aboModelTrial_structure_v2.json\")\n",
    "f.write_text(model_structure)\n",
    "\n",
    "# Save neural network's trained weights\n",
    "#model.save_weights(\"/tmp/aboModelTrialWeights.h5\")\n",
    "model.save_weights(\"aboModelTrialWeights_v2.h5\")\n",
    "\n",
    "# Save whole model to one file\n",
    "#model.save(\"/tmp/f\")\n",
    "#model.save('/tmp/aboModelTrial.h5')\n",
    "model.save('aboModelTrial_v2.h5')"
   ]
  },
  {
   "cell_type": "code",
   "execution_count": 38,
   "metadata": {
    "executionInfo": {
     "elapsed": 321,
     "status": "ok",
     "timestamp": 1631167310731,
     "user": {
      "displayName": "Sajeewa Pemasinghe",
      "photoUrl": "https://lh3.googleusercontent.com/a-/AOh14GhJlk5aMShct3FCWU8IYNIxkTpt88UcoHMpeWunPw=s64",
      "userId": "10294265481048027989"
     },
     "user_tz": -330
    },
    "id": "NI4iE8CUIzIa"
   },
   "outputs": [],
   "source": [
    "#file_name='/tmp/history1.txt'\n",
    "file_name='history1.txt'\n",
    "f = open(file_name,'wb')\n",
    "pickle.dump(results.history,f)\n",
    "f.close()"
   ]
  },
  {
   "cell_type": "code",
   "execution_count": 41,
   "metadata": {
    "colab": {
     "base_uri": "https://localhost:8080/",
     "height": 295
    },
    "executionInfo": {
     "elapsed": 607,
     "status": "ok",
     "timestamp": 1631167419259,
     "user": {
      "displayName": "Sajeewa Pemasinghe",
      "photoUrl": "https://lh3.googleusercontent.com/a-/AOh14GhJlk5aMShct3FCWU8IYNIxkTpt88UcoHMpeWunPw=s64",
      "userId": "10294265481048027989"
     },
     "user_tz": -330
    },
    "id": "K13zwAd5JeUK",
    "outputId": "3c497af2-1962-4f57-ae51-be6c199a8c4a"
   },
   "outputs": [
    {
     "data": {
      "image/png": "[encoded data removed]",
      "text/plain": [
       "<Figure size 432x288 with 1 Axes>"
      ]
     },
     "metadata": {
      "needs_background": "light"
     },
     "output_type": "display_data"
    }
   ],
   "source": [
    "accuracy_val = results.history['val_accuracy']\n",
    "loss_val = results.history['val_loss']\n",
    "epochs = range(1,14)\n",
    "plt.plot(epochs, accuracy_val, 'g', label='Validation accuracy')\n",
    "plt.plot(epochs, loss_val, 'b', label='validation loss')\n",
    "plt.title('Validation accuracy and Validation loss')\n",
    "plt.xlabel('Epochs')\n",
    "plt.ylabel('Loss')\n",
    "plt.legend()\n",
    "plt.show()"
   ]
  },
  {
   "cell_type": "code",
   "execution_count": null,
   "metadata": {
    "id": "9VsIDRJvJsB0"
   },
   "outputs": [],
   "source": []
  }
 ],
 "metadata": {
  "colab": {
   "authorship_tag": "ABX9TyPDPj/4BBP3Z2sWGXwkWvfK",
   "name": "aboTrial.ipynb",
   "provenance": []
  },
  "kernelspec": {
   "display_name": "Python 3",
   "language": "python",
   "name": "python3"
  },
  "language_info": {
   "codemirror_mode": {
    "name": "ipython",
    "version": 3
   },
   "file_extension": ".py",
   "mimetype": "text/x-python",
   "name": "python",
   "nbconvert_exporter": "python",
   "pygments_lexer": "ipython3",
   "version": "3.7.9"
  }
 },
 "nbformat": 4,
 "nbformat_minor": 1
}
